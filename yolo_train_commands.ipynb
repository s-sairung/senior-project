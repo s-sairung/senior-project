{
 "cells": [
  {
   "attachments": {},
   "cell_type": "markdown",
   "metadata": {},
   "source": [
    "python train.py --workers 1 --device 0 --batch-size 4 --epochs 100 --img 640 640 --data data/second_stage.yaml --hyp data/hyp.scratch.custom.yaml --cfg cfg/training/yolov7-tiny_second_stage.yaml --name yolov7_second_stage --weights yolov7-tiny.pt"
   ]
  },
  {
   "attachments": {},
   "cell_type": "markdown",
   "metadata": {},
   "source": [
    "Note: \\\n",
    "`firstcommand ; secondcommand` run the second command even if the first fails. \\\n",
    "`firstcommand && secondcommand` run the second command only if the first one succeeds. \\\n",
    "`firstcommand || secondcommand` run the second command only if the first one fails \\\n",
    "\\\n",
    "`shutdown /s` shutdown \\\n",
    "`shutdown /r` restart \\\n",
    "`shutdown /l` logoff \\\n",
    "`shutdown /h` hibernate"
   ]
  },
  {
   "cell_type": "code",
   "execution_count": null,
   "metadata": {},
   "outputs": [],
   "source": [
    "!tensorboard --logdir runs/train"
   ]
  },
  {
   "attachments": {},
   "cell_type": "markdown",
   "metadata": {},
   "source": [
    "yolov7_second_stage\n",
    "\n",
    "`python train.py --workers 1 --device 0 --batch-size 4 --epochs 100 --img 640 640 --data data/second_stage.yaml --hyp data/hyp.scratch.custom.yaml --cfg cfg/training/yolov7-tiny_second_stage.yaml --name yolov7_second_stage --weights yolov7-tiny.pt; shutdown /l`\n",
    "\n",
    "ทดสอบ train model โดยใช้ weights yolov7-tiny.pt และใช้ dataset roboflow รวม public และ private"
   ]
  },
  {
   "attachments": {},
   "cell_type": "markdown",
   "metadata": {},
   "source": [
    "`python train.py --workers 1 --device 0 --batch-size 4 --epochs 100 --img 640 640 --data data/dataset.yaml --hyp data/hyp.scratch.custom.yaml --cfg cfg/training/yolov7_project.yaml --name yolov7_project --weights yolov7.pt; shutdown /h`\n",
    "\n",
    "ทดสอบ train model โดยใช้ weights yolov7.pt และใช้ dataset roboflow (private + public) + coco_sampling โดยมี nc: 7; names: [ 'person', 'bicycle', 'car', 'motorcycle', 'bus', 'truck', 'scooter' ] เพื่อดูว่าถ้ารวม tuktuk เข้าไปใน car จะให้ผลเป็นอย่างไร "
   ]
  }
 ],
 "metadata": {
  "kernelspec": {
   "display_name": "senior_project",
   "language": "python",
   "name": "python3"
  },
  "language_info": {
   "name": "python",
   "version": "3.9.15"
  },
  "orig_nbformat": 4,
  "vscode": {
   "interpreter": {
    "hash": "916ee9c9cb7238f6d6b67c0fb5959fbcead487380aac231732270d002106c5da"
   }
  }
 },
 "nbformat": 4,
 "nbformat_minor": 2
}
