{
 "cells": [
  {
   "cell_type": "code",
   "execution_count": null,
   "metadata": {},
   "outputs": [],
   "source": [
    "kitti_dir = \"./dataset/kitti\"\n",
    "val_ratio = 0.3"
   ]
  },
  {
   "cell_type": "code",
   "execution_count": null,
   "metadata": {},
   "outputs": [],
   "source": [
    "import os\n",
    "\n",
    "train_dir = os.path.join(kitti_dir, \"train\")\n",
    "val_dir = os.path.join(kitti_dir, \"val\")\n",
    "\n",
    "train_img_dir = os.path.join(train_dir, \"images\")\n",
    "train_lbl_dir = os.path.join(train_dir, \"labels\")\n",
    "\n",
    "val_img_dir = os.path.join(val_dir, \"images\")\n",
    "val_lbl_dir = os.path.join(val_dir, \"labels\")\n",
    "\n",
    "dirs = [val_dir, val_img_dir, val_lbl_dir]\n",
    "\n",
    "for d in dirs:\n",
    "    if not os.path.isdir(d):\n",
    "        os.makedirs(d)"
   ]
  },
  {
   "cell_type": "code",
   "execution_count": null,
   "metadata": {},
   "outputs": [],
   "source": [
    "import random\n",
    "import shutil\n",
    "\n",
    "image_files = os.listdir(os.path.join(train_dir, \"images\"))\n",
    "num_val = int(len(image_files) * val_ratio)\n",
    "val_files = random.sample(image_files, num_val)\n",
    "\n",
    "for filename in val_files:\n",
    "    img_name = filename\n",
    "    lbl_name = filename[:-4] + \".txt\"\n",
    "    shutil.move(os.path.join(train_img_dir, img_name), os.path.join(val_img_dir, img_name))\n",
    "    shutil.move(os.path.join(train_lbl_dir, lbl_name), os.path.join(val_lbl_dir, lbl_name))\n",
    "\n",
    "print(f\"Split dataset into training set ({len(image_files)-num_val} images) and validation set ({num_val} images) in the ratio of {1-val_ratio}:{val_ratio}.\")"
   ]
  }
 ],
 "metadata": {
  "kernelspec": {
   "display_name": "senior_project",
   "language": "python",
   "name": "python3"
  },
  "language_info": {
   "codemirror_mode": {
    "name": "ipython",
    "version": 3
   },
   "file_extension": ".py",
   "mimetype": "text/x-python",
   "name": "python",
   "nbconvert_exporter": "python",
   "pygments_lexer": "ipython3",
   "version": "3.9.15"
  },
  "orig_nbformat": 4
 },
 "nbformat": 4,
 "nbformat_minor": 2
}
