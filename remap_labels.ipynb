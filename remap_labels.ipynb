{
 "cells": [
  {
   "attachments": {},
   "cell_type": "markdown",
   "metadata": {},
   "source": [
    "# Configuration"
   ]
  },
  {
   "attachments": {},
   "cell_type": "markdown",
   "metadata": {},
   "source": [
    "The following parameters are configurable:\n",
    "\n",
    "| Parameter | Description |\n",
    "| --------- | ----------- |\n",
    "| `path_to_dataset` | Dataset directory |\n",
    "| `subdirectories` | Dataset's subdirectories |\n",
    "| `current_mapping` | Current labels mapping |\n",
    "| `new_mapping` | New labels mapping you want to change to |\n",
    "\n",
    "Note: This script assumes Roboflow `YOLO v7 PyTorch` export's folder structure:\n",
    "```\n",
    "root (e.g. roboflow)\n",
    "├── train\n",
    "│   ├── labels\n",
    "│   └── images\n",
    "├── valid\n",
    "│   ├── labels\n",
    "│   └── images\n",
    "├── data.yaml\n",
    "├── README.dataset.txt\n",
    "└── README.roboflow.txt\n",
    "```"
   ]
  },
  {
   "cell_type": "code",
   "execution_count": null,
   "metadata": {},
   "outputs": [],
   "source": [
    "path_to_dataset = \"./dataset/roboflow\"\n",
    "subdirectories = [\"train\", \"valid\"]\n",
    "\n",
    "current_mapping = {0: \"scooter\", 1: \"tuktuk\"}\n",
    "new_mapping = {6: \"scooter\", 7: \"tuktuk\"}"
   ]
  },
  {
   "attachments": {},
   "cell_type": "markdown",
   "metadata": {},
   "source": [
    "# Remap Labels"
   ]
  },
  {
   "attachments": {},
   "cell_type": "markdown",
   "metadata": {},
   "source": [
    "Note: The code will log mapping changes to a file in dataset path. \\\n",
    "Note 2: This code was generated using ChatGPT, with some of my modifications."
   ]
  },
  {
   "cell_type": "code",
   "execution_count": null,
   "metadata": {},
   "outputs": [],
   "source": [
    "import os\n",
    "from tqdm import tqdm\n",
    "import datetime\n",
    "\n",
    "for subdirectory in subdirectories:\n",
    "    path_to_subdirectory = os.path.join(path_to_dataset, subdirectory)\n",
    "    path_to_label = os.path.join(path_to_subdirectory, \"labels\")\n",
    "    for label_file in tqdm(os.listdir(path_to_label)):\n",
    "        f = open(os.path.join(path_to_label, label_file), \"r\")\n",
    "        lines = f.readlines()\n",
    "        f.close()\n",
    "        for i, line in enumerate(lines):\n",
    "            parts = line.split(\" \")\n",
    "            class_label = int(parts[0])\n",
    "            if class_label in current_mapping:\n",
    "                new_class_label = [j for j in new_mapping if new_mapping[j] == current_mapping[class_label]][0]\n",
    "                lines[i] = \" \".join([str(new_class_label)] + parts[1:])\n",
    "        f = open(os.path.join(path_to_label, label_file), \"w\")\n",
    "        f.writelines(lines)\n",
    "        f.close()\n",
    "\n",
    "timestamp = datetime.datetime.now().strftime(\"%Y-%m-%d %H:%M:%S\")\n",
    "log_path = os.path.join(path_to_dataset, \"label_mapping_log.txt\")\n",
    "log_file = open(log_path, \"a\")\n",
    "log_file.write(\"[{}]: {} -> {}\\n\".format(timestamp, current_mapping, new_mapping))\n",
    "log_file.close()"
   ]
  }
 ],
 "metadata": {
  "kernelspec": {
   "display_name": "senior_project",
   "language": "python",
   "name": "python3"
  },
  "language_info": {
   "codemirror_mode": {
    "name": "ipython",
    "version": 3
   },
   "file_extension": ".py",
   "mimetype": "text/x-python",
   "name": "python",
   "nbconvert_exporter": "python",
   "pygments_lexer": "ipython3",
   "version": "3.9.15 (main, Nov 24 2022, 14:39:17) [MSC v.1916 64 bit (AMD64)]"
  },
  "orig_nbformat": 4,
  "vscode": {
   "interpreter": {
    "hash": "916ee9c9cb7238f6d6b67c0fb5959fbcead487380aac231732270d002106c5da"
   }
  }
 },
 "nbformat": 4,
 "nbformat_minor": 2
}
