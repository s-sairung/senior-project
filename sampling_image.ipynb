{
 "cells": [
  {
   "attachments": {},
   "cell_type": "markdown",
   "metadata": {},
   "source": [
    "# Configuration"
   ]
  },
  {
   "attachments": {},
   "cell_type": "markdown",
   "metadata": {},
   "source": [
    "The following parameters are configurable:\n",
    "\n",
    "| Parameter | Description |\n",
    "| --------- | ----------- |\n",
    "| `samples_per_class` | Amount of samples per class |\n",
    "| `dir_in` | Dataset directory with huge amount of data |\n",
    "| `dir_out` | Directory for sampled data |\n",
    "\n",
    "Note: This script assumes conventional folder structure:\n",
    "```\n",
    "dataset (e.g. coco)\n",
    "├── train\n",
    "│   ├── labels\n",
    "│   └── images\n",
    "└── val\n",
    "    ├── labels\n",
    "    └── images\n",
    "```\n",
    "\n",
    "Note 2: Only the `train` folder is copied to the output. The `val` folder is untouched by this script."
   ]
  },
  {
   "cell_type": "code",
   "execution_count": null,
   "metadata": {},
   "outputs": [],
   "source": [
    "samples_per_class = 500\n",
    "dir_in = \"./dataset/coco\"\n",
    "dir_out = \"./dataset/coco_sampling\""
   ]
  },
  {
   "cell_type": "code",
   "execution_count": null,
   "metadata": {},
   "outputs": [],
   "source": [
    "import os\n",
    "\n",
    "train_folder_in = os.path.join(dir_in, \"train\")\n",
    "image_folder_in = os.path.join(train_folder_in, \"images\")\n",
    "label_folder_in = os.path.join(train_folder_in, \"labels\")\n",
    "label_files = os.listdir(label_folder_in)\n",
    "\n",
    "train_folder_out = os.path.join(dir_out, \"train\")\n",
    "image_folder_out = os.path.join(train_folder_out, \"images\")\n",
    "label_folder_out = os.path.join(train_folder_out, \"labels\")"
   ]
  },
  {
   "attachments": {},
   "cell_type": "markdown",
   "metadata": {},
   "source": [
    "# Build Files Dictionary"
   ]
  },
  {
   "attachments": {},
   "cell_type": "markdown",
   "metadata": {},
   "source": [
    "**Initialize dictionary variable**"
   ]
  },
  {
   "attachments": {},
   "cell_type": "markdown",
   "metadata": {},
   "source": [
    "This code will attempt to read variable from a file. If none is found, it will initialize a blank dictionary, meaning you have to manually generate a new one using the code block below. The dictionary variable acts like a cache, and is used in the random sampling process."
   ]
  },
  {
   "cell_type": "code",
   "execution_count": null,
   "metadata": {},
   "outputs": [],
   "source": [
    "import pickle\n",
    "\n",
    "try:\n",
    "    f = open(\"sampling_image_dict.pckl\", \"rb\")\n",
    "    class_files = pickle.load(f)\n",
    "    f.close()\n",
    "    print(\"Dictionary variable has been loaded from disk.\")\n",
    "except (FileNotFoundError, EOFError) as e:\n",
    "    class_files = {}\n",
    "    print(\"Dictionary variable has not been loaded from disk. Manual generation is required.\")"
   ]
  },
  {
   "attachments": {},
   "cell_type": "markdown",
   "metadata": {},
   "source": [
    "**Generate files dictionary and save dictionary variable into a file**"
   ]
  },
  {
   "attachments": {},
   "cell_type": "markdown",
   "metadata": {},
   "source": [
    "Run this if the stored dictionary variable is not available for use, or when you made changes to the dataset files, or when you simply want to generate a fresh new one. This process might take a while depending on the number of files. When everything is done, the data file will be created on disk. As mentioned, this acts like a cache so that you don't have to re-read every label files when re-generate random samples."
   ]
  },
  {
   "cell_type": "code",
   "execution_count": null,
   "metadata": {},
   "outputs": [],
   "source": [
    "from tqdm import tqdm\n",
    "\n",
    "for filename in tqdm(label_files):\n",
    "    filepath = os.path.join(label_folder_in, filename)\n",
    "    label_file = open(filepath, \"r\")\n",
    "    labels = label_file.readlines()\n",
    "    for line in labels:\n",
    "        label_class = int(line.split(\" \")[0])\n",
    "        try:\n",
    "            class_files[label_class].add(filename)\n",
    "        except KeyError:\n",
    "            class_files[label_class] = {filename}\n",
    "    label_file.close()\n",
    "\n",
    "f = open(\"sampling_image_dict.pckl\", \"wb\")\n",
    "pickle.dump(class_files, f)\n",
    "f.close()\n",
    "\n",
    "print(\"Dictionary variable has been saved to disk.\")"
   ]
  },
  {
   "attachments": {},
   "cell_type": "markdown",
   "metadata": {},
   "source": [
    "# Random Sampling"
   ]
  },
  {
   "attachments": {},
   "cell_type": "markdown",
   "metadata": {},
   "source": [
    "Note: The number of output samples might be less than `samples_per_class * number_of_classes` as one label file could contain more than one class."
   ]
  },
  {
   "cell_type": "code",
   "execution_count": null,
   "metadata": {},
   "outputs": [],
   "source": [
    "import random\n",
    "\n",
    "sample_labels = set()\n",
    "\n",
    "for class_index in class_files:\n",
    "    samples = random.sample([*class_files[class_index]], samples_per_class)\n",
    "    sample_labels = sample_labels.union(samples)\n",
    "    \n",
    "print(f\"Successfully picked {len(sample_labels)} random samples.\")"
   ]
  },
  {
   "attachments": {},
   "cell_type": "markdown",
   "metadata": {},
   "source": [
    "# Copy Files to the Destination Directory"
   ]
  },
  {
   "cell_type": "code",
   "execution_count": null,
   "metadata": {},
   "outputs": [],
   "source": [
    "import shutil\n",
    "from tqdm import tqdm\n",
    "\n",
    "if not os.path.isdir(dir_out):\n",
    "    os.makedirs(dir_out)\n",
    "if not os.path.isdir(label_folder_out):\n",
    "    os.makedirs(label_folder_out)\n",
    "if not os.path.isdir(image_folder_out):\n",
    "    os.makedirs(image_folder_out)\n",
    "\n",
    "for filename in tqdm(sample_labels):\n",
    "    label_source_path = os.path.join(label_folder_in, filename)\n",
    "    label_destination_path = os.path.join(label_folder_out, filename)\n",
    "    shutil.copyfile(label_source_path, label_destination_path)\n",
    "\n",
    "    filename_image = filename.removesuffix(\".txt\") + \".jpg\"\n",
    "    image_source_path = os.path.join(image_folder_in, filename_image)\n",
    "    image_destination_path = os.path.join(image_folder_out, filename_image)\n",
    "    shutil.copyfile(image_source_path, image_destination_path)\n",
    "\n",
    "print(f\"Done copying random samples from {dir_in} to {dir_out}.\")"
   ]
  }
 ],
 "metadata": {
  "kernelspec": {
   "display_name": "senior_project",
   "language": "python",
   "name": "python3"
  },
  "language_info": {
   "codemirror_mode": {
    "name": "ipython",
    "version": 3
   },
   "file_extension": ".py",
   "mimetype": "text/x-python",
   "name": "python",
   "nbconvert_exporter": "python",
   "pygments_lexer": "ipython3",
   "version": "3.9.15"
  },
  "orig_nbformat": 4,
  "vscode": {
   "interpreter": {
    "hash": "916ee9c9cb7238f6d6b67c0fb5959fbcead487380aac231732270d002106c5da"
   }
  }
 },
 "nbformat": 4,
 "nbformat_minor": 2
}
